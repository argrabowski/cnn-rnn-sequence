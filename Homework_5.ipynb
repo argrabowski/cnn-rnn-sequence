{
  "nbformat": 4,
  "nbformat_minor": 0,
  "metadata": {
    "colab": {
      "provenance": [],
      "gpuType": "T4"
    },
    "kernelspec": {
      "name": "python3",
      "display_name": "Python 3"
    },
    "language_info": {
      "name": "python"
    },
    "accelerator": "GPU"
  },
  "cells": [
    {
      "cell_type": "markdown",
      "source": [
        "## Homework 5\n",
        "\n",
        "Adam Grabowski |\n",
        "CS 541 Deep Learning |\n",
        "October 15, 2023"
      ],
      "metadata": {
        "id": "Ot_RTMV6SH5L"
      }
    },
    {
      "cell_type": "code",
      "source": [
        "from __future__ import unicode_literals, print_function, division\n",
        "from io import open\n",
        "import unicodedata\n",
        "import re\n",
        "import random\n",
        "import numpy as np\n",
        "import torch\n",
        "import torch.nn as nn\n",
        "import torch.optim as optim\n",
        "import torch.nn.functional as F\n",
        "from torchvision import models, transforms\n",
        "from torch.utils.data import DataLoader, Dataset, TensorDataset, RandomSampler, random_split\n",
        "from torch.nn.utils.rnn import pad_sequence\n",
        "from sklearn.model_selection import train_test_split\n",
        "import matplotlib.pyplot as plt\n",
        "import time"
      ],
      "metadata": {
        "id": "ZYownXeCSSF4"
      },
      "execution_count": 19,
      "outputs": []
    },
    {
      "cell_type": "code",
      "source": [
        "device = torch.device('cuda' if torch.cuda.is_available() else 'cpu') # Check if GPU available"
      ],
      "metadata": {
        "id": "c0vWfIzSZcn_"
      },
      "execution_count": 20,
      "outputs": []
    },
    {
      "cell_type": "markdown",
      "source": [
        "### Problem 1"
      ],
      "metadata": {
        "id": "QjemNQg2STcF"
      }
    },
    {
      "cell_type": "code",
      "source": [
        "class CustomDataset(Dataset):\n",
        "    def __init__(self, faces, ages, transform=None):\n",
        "        self.faces = faces # Grayscale face images\n",
        "        self.ages = ages.reshape(-1, 1) # Reshape ages to column vectors\n",
        "        self.transform = transform # Data transformation\n",
        "\n",
        "    def __len__(self):\n",
        "        return len(self.faces)\n",
        "\n",
        "    def __getitem__(self, idx):\n",
        "        image = self.faces[idx] # Get image at specified index\n",
        "        age = self.ages[idx] # Get age label corresponding to image\n",
        "        if self.transform:\n",
        "            image = self.transform(image) # Apply transformation to image\n",
        "        image = image.float() # Convert image to float tensor\n",
        "        age = torch.tensor(age, dtype=torch.float32) # Convert age to float tensor\n",
        "        return image, age"
      ],
      "metadata": {
        "id": "181T0dEp-BUT"
      },
      "execution_count": 21,
      "outputs": []
    },
    {
      "cell_type": "code",
      "source": [
        "def preprocess_data(faces, ages):\n",
        "    model = models.vgg16(weights='DEFAULT') # Load VGG16 model with default weights\n",
        "    model.classifier[-1] = nn.Linear(4096, 1) # Modify output layer to produce single value\n",
        "    model = model.to(device) # Move model to specified device (e.g., GPU)\n",
        "\n",
        "    preprocess = transforms.Compose([\n",
        "        transforms.ToPILImage(), # Convert image to a PIL Image\n",
        "        transforms.Grayscale(num_output_channels=3), # Convert grayscale to pseudo-RGB\n",
        "        transforms.Resize((224, 224)), # Resize image to VGG16 input size\n",
        "        transforms.ToTensor(), # Convert image to tensor\n",
        "        transforms.Normalize(mean=[0.485, 0.456, 0.406], std=[0.229, 0.224, 0.225]) # Normalize image\n",
        "    ])\n",
        "\n",
        "    return model, preprocess"
      ],
      "metadata": {
        "id": "Gi8jH4Rg7dzO"
      },
      "execution_count": 22,
      "outputs": []
    },
    {
      "cell_type": "code",
      "source": [
        "def create_datasets(faces, ages, preprocess):\n",
        "    # Create custom dataset with image preprocessing\n",
        "    custom_dataset = CustomDataset(faces, ages, transform=preprocess)\n",
        "    total_samples = len(custom_dataset)\n",
        "\n",
        "    # Split custom dataset into training and testing sets\n",
        "    train_val_size = int(0.8 * total_samples)\n",
        "    test_size = total_samples - train_val_size\n",
        "    train_val_dataset, test_dataset = random_split(custom_dataset, [train_val_size, test_size])\n",
        "\n",
        "    # Split training dataset into training and validation sets\n",
        "    train_size = int(0.8 * train_val_size)\n",
        "    val_size = train_val_size - train_size\n",
        "    train_dataset, val_dataset = random_split(train_val_dataset, [train_size, val_size])\n",
        "\n",
        "    return train_dataset, val_dataset, test_dataset"
      ],
      "metadata": {
        "id": "c-kwJ14R7pj3"
      },
      "execution_count": 23,
      "outputs": []
    },
    {
      "cell_type": "code",
      "source": [
        "def create_data_loaders(train_dataset, val_dataset, test_dataset, batch_size):\n",
        "    # Create data loaders for training, validation, and testing sets\n",
        "    train_loader = DataLoader(train_dataset, batch_size=batch_size, shuffle=True, pin_memory=True)\n",
        "    val_loader = DataLoader(val_dataset, batch_size=batch_size, pin_memory=True)\n",
        "    test_loader = DataLoader(test_dataset, batch_size=batch_size, pin_memory=True)\n",
        "\n",
        "    return train_loader, val_loader, test_loader"
      ],
      "metadata": {
        "id": "GQze8xew7ytg"
      },
      "execution_count": 24,
      "outputs": []
    },
    {
      "cell_type": "code",
      "source": [
        "def eval_model(model, eval_loader, criterion):\n",
        "    model.eval()\n",
        "    with torch.no_grad():\n",
        "        eval_losses = []\n",
        "        for inputs, labels in eval_loader: # Iterate over evaluation loader\n",
        "            inputs, labels = inputs.to(device), labels.to(device)\n",
        "            outputs = model(inputs) # Forward pass\n",
        "            eval_loss = criterion(outputs, labels) # Calculate loss\n",
        "            eval_losses.append(eval_loss.item())\n",
        "\n",
        "    return eval_losses"
      ],
      "metadata": {
        "id": "Ex9oWSx0kCv6"
      },
      "execution_count": 25,
      "outputs": []
    },
    {
      "cell_type": "code",
      "source": [
        "def train_model(model, train_loader, val_loader, criterion, optimizer, num_epochs, print_epoch):\n",
        "    for epoch in range(num_epochs):\n",
        "        model.train()\n",
        "        for inputs, labels in train_loader:\n",
        "            inputs, labels = inputs.to(device), labels.to(device)\n",
        "            optimizer.zero_grad() # Zero gradients\n",
        "            outputs = model(inputs) # Forward pass\n",
        "            train_loss = criterion(outputs, labels) # Calculate loss\n",
        "            train_loss.backward() # Backward pass\n",
        "            optimizer.step() # Update parameters\n",
        "\n",
        "        if print_epoch: # Calculate train and validation RMSE for epoch\n",
        "            train_rmse = np.sqrt(train_loss.item())\n",
        "            val_losses = eval_model(model, val_loader, criterion)\n",
        "            val_rmse = np.sqrt(sum(val_losses) / len(val_losses))\n",
        "            print(f'Epoch {epoch + 1}/{num_epochs}, Train RMSE: {train_rmse:.4f}, Validation RMSE: {val_rmse:.4f}')"
      ],
      "metadata": {
        "id": "792Jbg5y7-FW"
      },
      "execution_count": 26,
      "outputs": []
    },
    {
      "cell_type": "code",
      "source": [
        "def find_best_hyperparameters(faces, ages, learning_rates, batch_sizes, num_epochs):\n",
        "    # Initialize best RMSE and hyperparameters\n",
        "    best_val_rmse = float('inf')\n",
        "    best_learning_rate = None\n",
        "    best_batch_size = None\n",
        "\n",
        "    # Iterate learning rates and batch sizes\n",
        "    for learning_rate in learning_rates:\n",
        "        for batch_size in batch_sizes:\n",
        "            # Preprocess data and create data loaders\n",
        "            model, preprocess = preprocess_data(faces, ages)\n",
        "            train_dataset, val_dataset, test_dataset = create_datasets(faces, ages, preprocess)\n",
        "            train_loader, val_loader, test_loader = create_data_loaders(train_dataset, val_dataset, test_dataset, batch_size)\n",
        "\n",
        "            # Define loss criterion and optimizer\n",
        "            criterion = nn.MSELoss()\n",
        "            optimizer = optim.Adam(model.parameters(), lr=learning_rate)\n",
        "\n",
        "            # Train model and calculate validation RMSE\n",
        "            train_model(model, train_loader, val_loader, criterion, optimizer, num_epochs, False)\n",
        "            val_losses = eval_model(model, val_loader, criterion)\n",
        "            val_rmse = np.sqrt(sum(val_losses) / len(val_losses))\n",
        "\n",
        "            # Update best hyperparameters\n",
        "            if val_rmse < best_val_rmse:\n",
        "                best_val_rmse = val_rmse\n",
        "                best_learning_rate = learning_rate\n",
        "                best_batch_size = batch_size\n",
        "\n",
        "    return learning_rate, best_batch_size, best_val_rmse"
      ],
      "metadata": {
        "id": "D0Ht62iblClk"
      },
      "execution_count": 27,
      "outputs": []
    },
    {
      "cell_type": "code",
      "source": [
        "# Load face images and corresponding ages\n",
        "faces = np.load('faces.npy')\n",
        "ages = np.load('ages.npy')\n",
        "\n",
        "# Define hyperparameters\n",
        "learning_rates = [0.001, 0.005]\n",
        "batch_sizes = [64, 128]\n",
        "num_epochs = 10\n",
        "\n",
        "# Find best hyperparameters using grid search\n",
        "best_learing_rate, best_batch_size, best_test_rmse = find_best_hyperparameters(faces, ages, learning_rates, batch_sizes, num_epochs)\n",
        "print(f\"Best Learning Rate: {best_learing_rate}, Best Batch Size: {best_batch_size}, Best Vaidation RMSE: {best_test_rmse:.4f}\")\n",
        "\n",
        "# Preprocess data and create data loaders\n",
        "model, preprocess = preprocess_data(faces, ages)\n",
        "train_dataset, val_dataset, test_dataset = create_datasets(faces, ages, preprocess)\n",
        "train_loader, val_loader, test_loader = create_data_loaders(train_dataset, val_dataset, test_dataset, best_batch_size)\n",
        "\n",
        "# Define loss criterion and optimizer\n",
        "criterion = nn.MSELoss()\n",
        "optimizer = optim.Adam(model.parameters(), lr=best_learing_rate)\n",
        "\n",
        "# Train model and calculate test RMSE\n",
        "train_model(model, train_loader, val_loader, criterion, optimizer, num_epochs, True)\n",
        "test_losses = eval_model(model, test_loader, criterion)\n",
        "test_rmse = np.sqrt(sum(test_losses) / len(test_losses))\n",
        "print(f'Test RMSE: {test_rmse:.4f}')"
      ],
      "metadata": {
        "colab": {
          "base_uri": "https://localhost:8080/"
        },
        "id": "tsXmq3kk8o5r",
        "outputId": "41c64c91-628b-454c-a6c4-22388d3646ff"
      },
      "execution_count": 29,
      "outputs": [
        {
          "output_type": "stream",
          "name": "stdout",
          "text": [
            "Best Learning Rate: 0.001, Best Batch Size: 64, Best Vaidation RMSE: 11.8017\n",
            "Epoch 1/10, Train RMSE: 13.6030, Validation RMSE: 15.0270\n",
            "Epoch 2/10, Train RMSE: 14.9601, Validation RMSE: 15.9529\n",
            "Epoch 3/10, Train RMSE: 12.2803, Validation RMSE: 13.5594\n",
            "Epoch 4/10, Train RMSE: 14.7651, Validation RMSE: 13.2058\n",
            "Epoch 5/10, Train RMSE: 14.2978, Validation RMSE: 12.1258\n",
            "Epoch 6/10, Train RMSE: 12.3366, Validation RMSE: 13.1477\n",
            "Epoch 7/10, Train RMSE: 12.2715, Validation RMSE: 11.7349\n",
            "Epoch 8/10, Train RMSE: 10.7240, Validation RMSE: 11.5533\n",
            "Epoch 9/10, Train RMSE: 12.1647, Validation RMSE: 12.2323\n",
            "Epoch 10/10, Train RMSE: 11.4959, Validation RMSE: 11.6013\n",
            "Test RMSE: 12.0200\n"
          ]
        }
      ]
    },
    {
      "cell_type": "markdown",
      "source": [
        "### Problem 2"
      ],
      "metadata": {
        "id": "KDitqZbMt__z"
      }
    },
    {
      "cell_type": "code",
      "source": [
        "def load_data(device):\n",
        "    # Load training and test data\n",
        "    X_train = np.load('X_train.npy', allow_pickle=True)\n",
        "    y_train = np.load('y_train.npy', allow_pickle=True)\n",
        "    X_test = np.load('X_test.npy', allow_pickle=True)\n",
        "    y_test = np.load('y_test.npy', allow_pickle=True)\n",
        "\n",
        "    # Convert loaded data to PyTorch tensors\n",
        "    X_train = [torch.Tensor(x).to(device) for x in X_train]\n",
        "    X_test = [torch.Tensor(x).to(device) for x in X_test]\n",
        "    y_train = torch.Tensor(y_train).to(device)\n",
        "    y_test = torch.Tensor(y_test).to(device)\n",
        "\n",
        "    return X_train, X_test, y_train, y_test"
      ],
      "metadata": {
        "id": "SA4GGNOHuONc"
      },
      "execution_count": 30,
      "outputs": []
    },
    {
      "cell_type": "code",
      "source": [
        "class RNNLayer(nn.Module):\n",
        "    def __init__(self, input_size, hidden_size):\n",
        "        super(RNNLayer, self).__init__()\n",
        "        self.hidden_size = hidden_size\n",
        "        self.input_size = input_size\n",
        "        self.W_xh = nn.Linear(input_size, hidden_size) # Weight matrix for input x\n",
        "        self.W_hh = nn.Linear(hidden_size, hidden_size) # Weight matrix for previous hidden state\n",
        "        self.activation = nn.Tanh() # Tanh activation function\n",
        "\n",
        "    def forward(self, x, hidden):\n",
        "        # Compute linear transformations and apply activation\n",
        "        hidden = self.activation(self.W_xh(x) + self.W_hh(hidden))\n",
        "        return hidden"
      ],
      "metadata": {
        "id": "bTCob3i8FXhQ"
      },
      "execution_count": 31,
      "outputs": []
    },
    {
      "cell_type": "code",
      "source": [
        "class SequenceModel(nn.Module):\n",
        "    def __init__(self, input_size, hidden_size, output_size):\n",
        "        super(SequenceModel, self).__init__()\n",
        "        self.hidden_size = hidden_size\n",
        "        self.rnn = RNNLayer(input_size, hidden_size) # Create RNN layer\n",
        "        self.linear = nn.Linear(hidden_size, output_size) # Create linear layer\n",
        "\n",
        "    def forward(self, input_seq, seq_lengths):\n",
        "        batch_size = len(input_seq)\n",
        "        last_hidden = torch.zeros(batch_size, self.hidden_size).to(device)\n",
        "\n",
        "        for b in range(batch_size):\n",
        "            hidden = torch.zeros(1, self.hidden_size).to(device)\n",
        "            seq_length = seq_lengths[b]\n",
        "\n",
        "            for t in range(seq_length):\n",
        "                # Apply RNN layer to each time step in sequence\n",
        "                hidden = self.rnn(input_seq[b][t].unsqueeze(0), hidden)\n",
        "            last_hidden[b] = hidden\n",
        "\n",
        "        # Map last hidden states to output\n",
        "        output = self.linear(last_hidden)\n",
        "        return output"
      ],
      "metadata": {
        "id": "7_Zpi8f-FtHM"
      },
      "execution_count": 32,
      "outputs": []
    },
    {
      "cell_type": "code",
      "source": [
        "class SequenceModelFixedLen(nn.Module):\n",
        "    def __init__(self, input_size, hidden_size, output_size, seq_len):\n",
        "        super(SequenceModelFixedLen, self).__init__()\n",
        "        self.hidden_size = hidden_size\n",
        "        self.seq_len = seq_len\n",
        "        self.rnn_layers = [RNNLayer(input_size, hidden_size).to(device) for _ in range(seq_len)] # Create list of RNN layers\n",
        "        self.linear = nn.Linear(hidden_size, output_size) # Create linear layer\n",
        "\n",
        "    def forward(self, input_seq, seq_lengths):\n",
        "        batch_size = len(input_seq)\n",
        "        last_hidden = torch.zeros(batch_size, self.hidden_size).to(device)\n",
        "\n",
        "        for b in range(batch_size):\n",
        "            hidden = torch.zeros(1, self.hidden_size).to(device)\n",
        "            seq_length = min(seq_lengths[b], self.seq_len)\n",
        "\n",
        "            for t in range(seq_length):\n",
        "                # Apply corresponding RNN layer to each time step\n",
        "                hidden = self.rnn_layers[t](input_seq[b][t].unsqueeze(0), hidden)\n",
        "            last_hidden[b] = hidden\n",
        "\n",
        "        # Map last hidden states to output\n",
        "        output = self.linear(last_hidden)\n",
        "        return output"
      ],
      "metadata": {
        "id": "BS1iL_CIHkPe"
      },
      "execution_count": 33,
      "outputs": []
    },
    {
      "cell_type": "code",
      "source": [
        "def evaluate(model, batch_size, X_test, y_test, seq_lengths):\n",
        "    model.eval()\n",
        "    criterion = nn.MSELoss()\n",
        "\n",
        "    # Iterate through dataset in batches\n",
        "    with torch.no_grad():\n",
        "        eval_losses = []\n",
        "        for i in range(0, len(X_test), batch_size):\n",
        "            inputs = X_test[i:i + batch_size] # Get batch of input sequences\n",
        "            targets = y_test[i:i + batch_size] # Get corresponding target values\n",
        "            lengths = seq_lengths[i:i + batch_size] # Get lengths of input sequences\n",
        "\n",
        "            outputs = model(inputs, lengths) # Forward pass\n",
        "            eval_loss = criterion(outputs, targets) # Calculate loss\n",
        "            eval_losses.append(eval_loss.item())\n",
        "\n",
        "    eval_mse = sum(eval_losses) / len(eval_losses)\n",
        "    return eval_mse"
      ],
      "metadata": {
        "id": "6Fo8MhQK0iVn"
      },
      "execution_count": 34,
      "outputs": []
    },
    {
      "cell_type": "code",
      "source": [
        "def train(model, num_epochs, lr, batch_size, X_train, y_train, seq_lengths, X_val, y_val, seq_lengths_val):\n",
        "    criterion = nn.MSELoss()\n",
        "    optimizer = optim.Adam(model.parameters(), lr=lr)\n",
        "    train_losses = []\n",
        "    val_losses = []\n",
        "\n",
        "    # Iterate through dataset in epochs and batches\n",
        "    for epoch in range(num_epochs):\n",
        "        for i in range(0, len(X_train), batch_size):\n",
        "            inputs = X_train[i:i + batch_size] # Get batch of input sequences\n",
        "            targets = y_train[i:i + batch_size] # Get corresponding target values\n",
        "            lengths = seq_lengths[i:i + batch_size] # Get lengths of input sequences\n",
        "\n",
        "            optimizer.zero_grad() # Zero gradients\n",
        "            outputs = model(inputs, lengths) # Forward pass\n",
        "            train_loss = criterion(outputs, targets) # Calculate loss\n",
        "            train_loss.backward() # Backward pass\n",
        "            optimizer.step() # Update parameters\n",
        "\n",
        "        val_loss = evaluate(model, batch_size, X_val, y_val, seq_lengths_val) # Calculate validation loss\n",
        "        train_losses.append(train_loss.item())\n",
        "        val_losses.append(val_loss)\n",
        "        print(f'Epoch {epoch + 1}/{num_epochs}, Train Loss: {train_loss.item():.4f}, Validation Loss: {val_loss:.4f}')\n",
        "\n",
        "    return model, train_losses, val_losses"
      ],
      "metadata": {
        "id": "B1kCIUKwI2GZ"
      },
      "execution_count": 35,
      "outputs": []
    },
    {
      "cell_type": "code",
      "source": [
        "# Define hyperparameters\n",
        "input_size = 10\n",
        "hidden_size = 64\n",
        "output_size = 1\n",
        "num_epochs = 10\n",
        "learning_rate = 0.001\n",
        "batch_size = 32\n",
        "\n",
        "# Load data onto device and split into training and validation sets\n",
        "X_train, X_test, y_train, y_test = load_data(device)\n",
        "X_train, X_val, y_train, y_val = train_test_split(X_train, y_train, test_size=0.2, random_state=42)\n",
        "\n",
        "# Calculate sequence lengths for training, validation, and test data\n",
        "seq_lengths = [seq.shape[0] for seq in X_train]\n",
        "seq_lengths_val = [seq.shape[0] for seq in X_val]\n",
        "seq_lengths_test = [seq.shape[0] for seq in X_test]"
      ],
      "metadata": {
        "id": "LTX0QeFPJ0XX"
      },
      "execution_count": 36,
      "outputs": []
    },
    {
      "cell_type": "code",
      "source": [
        "# Define and train vanilla RNN model\n",
        "vanilla_model = SequenceModel(input_size, hidden_size, output_size).to(device)\n",
        "vanilla_model, train_losses_vanilla, val_losses_vanilla = train(vanilla_model, num_epochs, learning_rate, batch_size,\n",
        "                                                                X_train, y_train, seq_lengths,\n",
        "                                                                X_val, y_val, seq_lengths_val)"
      ],
      "metadata": {
        "colab": {
          "base_uri": "https://localhost:8080/"
        },
        "id": "QXSJz9wxMlfL",
        "outputId": "c7b3fa51-4938-4007-84df-f4cf62bec66f"
      },
      "execution_count": 38,
      "outputs": [
        {
          "output_type": "stream",
          "name": "stdout",
          "text": [
            "Epoch 1/10, Train Loss: 0.0198, Validation Loss: 0.0144\n",
            "Epoch 2/10, Train Loss: 0.0028, Validation Loss: 0.0052\n",
            "Epoch 3/10, Train Loss: 0.0024, Validation Loss: 0.0042\n",
            "Epoch 4/10, Train Loss: 0.0020, Validation Loss: 0.0037\n",
            "Epoch 5/10, Train Loss: 0.0018, Validation Loss: 0.0036\n",
            "Epoch 6/10, Train Loss: 0.0017, Validation Loss: 0.0034\n",
            "Epoch 7/10, Train Loss: 0.0015, Validation Loss: 0.0033\n",
            "Epoch 8/10, Train Loss: 0.0014, Validation Loss: 0.0031\n",
            "Epoch 9/10, Train Loss: 0.0013, Validation Loss: 0.0030\n",
            "Epoch 10/10, Train Loss: 0.0012, Validation Loss: 0.0029\n"
          ]
        }
      ]
    },
    {
      "cell_type": "code",
      "source": [
        "# Define and train truncated RNN model\n",
        "min_seq_length = min(seq_lengths)\n",
        "X_train_truncated = [seq[:min_seq_length] for seq in X_train]\n",
        "truncated_model = SequenceModelFixedLen(input_size, hidden_size, output_size, min_seq_length).to(device)\n",
        "truncated_model, train_losses_truncated, val_losses_truncated = train(truncated_model, num_epochs, learning_rate, batch_size,\n",
        "                                                                      X_train, y_train, seq_lengths,\n",
        "                                                                      X_val, y_val, seq_lengths_val)"
      ],
      "metadata": {
        "colab": {
          "base_uri": "https://localhost:8080/"
        },
        "id": "qJ5a3CaBg-5I",
        "outputId": "a08b16a1-db25-4b56-c313-c7718c750827"
      },
      "execution_count": 39,
      "outputs": [
        {
          "output_type": "stream",
          "name": "stdout",
          "text": [
            "Epoch 1/10, Train Loss: 0.0522, Validation Loss: 0.0386\n",
            "Epoch 2/10, Train Loss: 0.0246, Validation Loss: 0.0210\n",
            "Epoch 3/10, Train Loss: 0.0161, Validation Loss: 0.0156\n",
            "Epoch 4/10, Train Loss: 0.0138, Validation Loss: 0.0139\n",
            "Epoch 5/10, Train Loss: 0.0128, Validation Loss: 0.0131\n",
            "Epoch 6/10, Train Loss: 0.0122, Validation Loss: 0.0126\n",
            "Epoch 7/10, Train Loss: 0.0119, Validation Loss: 0.0123\n",
            "Epoch 8/10, Train Loss: 0.0116, Validation Loss: 0.0120\n",
            "Epoch 9/10, Train Loss: 0.0114, Validation Loss: 0.0118\n",
            "Epoch 10/10, Train Loss: 0.0113, Validation Loss: 0.0117\n"
          ]
        }
      ]
    },
    {
      "cell_type": "code",
      "source": [
        "# Define and train padded RNN model\n",
        "max_seq_length = max(seq_lengths)\n",
        "X_train_padded = pad_sequence(X_train, batch_first=True, padding_value=0)\n",
        "padded_model = SequenceModelFixedLen(input_size, hidden_size, output_size, max_seq_length).to(device)\n",
        "padded_model, train_losses_padded, val_losses_padded = train(padded_model, num_epochs, learning_rate, batch_size,\n",
        "                                                             X_train, y_train, seq_lengths,\n",
        "                                                             X_val, y_val, seq_lengths_val)"
      ],
      "metadata": {
        "colab": {
          "base_uri": "https://localhost:8080/"
        },
        "id": "NLhqSz9PhEds",
        "outputId": "5ff4116c-769f-4f5c-b6f0-30d4e3708b0b"
      },
      "execution_count": 40,
      "outputs": [
        {
          "output_type": "stream",
          "name": "stdout",
          "text": [
            "Epoch 1/10, Train Loss: 0.0584, Validation Loss: 0.0651\n",
            "Epoch 2/10, Train Loss: 0.0412, Validation Loss: 0.0481\n",
            "Epoch 3/10, Train Loss: 0.0305, Validation Loss: 0.0362\n",
            "Epoch 4/10, Train Loss: 0.0238, Validation Loss: 0.0280\n",
            "Epoch 5/10, Train Loss: 0.0195, Validation Loss: 0.0224\n",
            "Epoch 6/10, Train Loss: 0.0166, Validation Loss: 0.0185\n",
            "Epoch 7/10, Train Loss: 0.0146, Validation Loss: 0.0159\n",
            "Epoch 8/10, Train Loss: 0.0132, Validation Loss: 0.0141\n",
            "Epoch 9/10, Train Loss: 0.0122, Validation Loss: 0.0129\n",
            "Epoch 10/10, Train Loss: 0.0114, Validation Loss: 0.0120\n"
          ]
        }
      ]
    },
    {
      "cell_type": "code",
      "source": [
        "# Evaluate vanilla, truncated, and padded RNN models\n",
        "test_mse_vanilla = evaluate(vanilla_model, batch_size, X_test, y_test, seq_lengths_test)\n",
        "test_mse_truncated = evaluate(truncated_model, batch_size, X_test, y_test, seq_lengths_test)\n",
        "test_mse_padded = evaluate(padded_model, batch_size, X_test, y_test, seq_lengths_test)\n",
        "\n",
        "print(f\"Vanilla RNN Test MSE: {test_mse_vanilla:.4f}\")\n",
        "print(f\"Truncated Model Test MSE: {test_mse_truncated:.4f}\")\n",
        "print(f\"Padded Model Test MSE: {test_mse_padded:.4f}\")"
      ],
      "metadata": {
        "colab": {
          "base_uri": "https://localhost:8080/"
        },
        "id": "wZju_xLGmwua",
        "outputId": "532ed4ae-5071-4430-98ec-129ed4361444"
      },
      "execution_count": 41,
      "outputs": [
        {
          "output_type": "stream",
          "name": "stdout",
          "text": [
            "Vanilla RNN Test MSE: 0.0029\n",
            "Truncated Model Test MSE: 0.0131\n",
            "Padded Model Test MSE: 0.0116\n"
          ]
        }
      ]
    },
    {
      "cell_type": "code",
      "source": [
        "# Plot training and validation loss curves for each model\n",
        "plt.figure(figsize=(12, 6))\n",
        "plt.plot(range(num_epochs), train_losses_vanilla, label=\"Vanilla RNN Training Loss\", color=\"blue\")\n",
        "plt.plot(range(num_epochs), val_losses_vanilla, label=\"Vanilla RNN Validation Loss\", color=\"red\")\n",
        "plt.plot(range(num_epochs), train_losses_truncated, label=\"Truncated Model Training Loss\", color=\"green\")\n",
        "plt.plot(range(num_epochs), val_losses_truncated, label=\"Truncated Model Validation Loss\", color=\"purple\")\n",
        "plt.plot(range(num_epochs), train_losses_padded, label=\"Padded Model Training Loss\", color=\"orange\")\n",
        "plt.plot(range(num_epochs), val_losses_padded, label=\"Padded Model Validation Loss\", color=\"brown\")\n",
        "plt.title(\"Training and Validation Loss Curves\")\n",
        "plt.xlabel(\"Epoch\")\n",
        "plt.ylabel(\"Loss\")\n",
        "plt.legend()"
      ],
      "metadata": {
        "colab": {
          "base_uri": "https://localhost:8080/",
          "height": 582
        },
        "id": "iJ9gcC6ryW75",
        "outputId": "401e0e32-da81-4053-af9f-e66f4a49a020"
      },
      "execution_count": 42,
      "outputs": [
        {
          "output_type": "execute_result",
          "data": {
            "text/plain": [
              "<matplotlib.legend.Legend at 0x7a556ea07700>"
            ]
          },
          "metadata": {},
          "execution_count": 42
        },
        {
          "output_type": "display_data",
          "data": {
            "text/plain": [
              "<Figure size 1200x600 with 1 Axes>"
            ],
            "image/png": "[encoded data removed]"
          },
          "metadata": {}
        }
      ]
    },
    {
      "cell_type": "markdown",
      "source": [
        "**Vanilla Model:**\n",
        "- *Advantages:* The Vanilla Model exhibits the lowest training and validation losses among the three models, indicating good convergence and predictive performance. Also, it shows rapid convergence, reaching a low validation loss by the second epoch.\n",
        "- *Disadvantages:* The Vanilla Model may not handle sequences with varying lengths effectively as it relies on shared weights, which might not capture long-term dependencies in sequences with significant length variations. It has the potential to overfit when working with data with varying lengths, as it doesn't have mechanisms to handle padding or truncated sequences.\n",
        "\n",
        "**Truncated Model:**\n",
        "- *Advantages:* The Truncated Model effectively handles sequences with varying lengths by truncating them to a common length. It demonstrates reasonable convergence and predictive performance, with both training and validation losses decreasing over epochs.\n",
        "- *Disadvantages:* Truncating sequences may result in information loss for longer sequences, potentially not capturing long-term dependencies effectively, especially for sequences with much longer original lengths. The training and validation losses, while decreasing, are relatively higher than the Vanilla Model, indicating room for improvement in performance.\n",
        "\n",
        "**Padded Model:**\n",
        "- *Advantages:* The Padded Model deals with sequences of varying lengths by padding them to a common length, preserving all information. It exhibits consistent convergence and predictive performance, with both training and validation losses decreasing significantly.\n",
        "- *Disadvantages:* Padding can result in a considerable increase in input size, leading to higher computational requirements, which can be a drawback when working with large datasets. Training and validation losses, while decreasing, start at higher initial values compared to the other models, suggesting slower convergence."
      ],
      "metadata": {
        "id": "0ep6ptyt8MzU"
      }
    },
    {
      "cell_type": "markdown",
      "source": [
        "### Problem 3"
      ],
      "metadata": {
        "id": "Pud0xjWAYWYN"
      }
    },
    {
      "cell_type": "code",
      "source": [
        "SOS_token = 0\n",
        "EOS_token = 1\n",
        "\n",
        "class Lang:\n",
        "    def __init__(self, name):\n",
        "        self.name = name\n",
        "        self.word2index = {} # Map words to unique indices\n",
        "        self.word2count = {} # Track word counts\n",
        "        self.index2word = {0: \"SOS\", 1: \"EOS\"} # Initialize special tokens\n",
        "        self.n_words = 2 # Count SOS and EOS\n",
        "\n",
        "    # Add sentence to vocabulary\n",
        "    def addSentence(self, sentence):\n",
        "        for word in sentence.split(' '):\n",
        "            self.addWord(word)\n",
        "\n",
        "    # Add word to vocabulary\n",
        "    def addWord(self, word):\n",
        "        if word not in self.word2index:\n",
        "            self.word2index[word] = self.n_words\n",
        "            self.word2count[word] = 1\n",
        "            self.index2word[self.n_words] = word\n",
        "            self.n_words += 1\n",
        "        else:\n",
        "            self.word2count[word] += 1"
      ],
      "metadata": {
        "id": "2dJY6tR3YX2_"
      },
      "execution_count": 3,
      "outputs": []
    },
    {
      "cell_type": "code",
      "source": [
        "# Convert Unicode to ASCII and remove diacritics\n",
        "def unicodeToAscii(s):\n",
        "    return ''.join(\n",
        "        c for c in unicodedata.normalize('NFD', s)\n",
        "        if unicodedata.category(c) != 'Mn'\n",
        "    )\n",
        "\n",
        "# Lowercase, space punctuation, and remove non-alphanumeric characters\n",
        "def normalizeString(s):\n",
        "    s = unicodeToAscii(s.lower().strip())\n",
        "    s = re.sub(r\"([.!?])\", r\" \\1\", s)\n",
        "    s = re.sub(r\"[^a-zA-Z!?]+\", r\" \", s)\n",
        "    return s.strip()"
      ],
      "metadata": {
        "id": "WXtA6ro9aENl"
      },
      "execution_count": 4,
      "outputs": []
    },
    {
      "cell_type": "code",
      "source": [
        "# Read language pairs, handle reverse order, and generate translation or autoencoder\n",
        "def readLangs(lang1, lang2, reverse=False, autoencoder=False):\n",
        "    print(\"Reading lines...\")\n",
        "\n",
        "    # Read lines from file and split into pairs\n",
        "    lines = open('%s-%s.txt' % (lang1, lang2), encoding='utf-8').\\\n",
        "        read().strip().split('\\n')\n",
        "\n",
        "    # Prepare pairs based on the autoencoder flag\n",
        "    if autoencoder:\n",
        "        pairs = [[normalizeString(l.split('\\t')[0]), normalizeString(l.split('\\t')[0])] for l in lines]\n",
        "    else:\n",
        "        pairs = [[normalizeString(s) for s in l.split('\\t')] for l in lines]\n",
        "\n",
        "    # Handle reverse order, create language instances\n",
        "    if reverse:\n",
        "        pairs = [list(reversed(p)) for p in pairs]\n",
        "        input_lang = Lang(lang2)\n",
        "        output_lang = Lang(lang1)\n",
        "    else:\n",
        "        input_lang = Lang(lang1)\n",
        "        output_lang = Lang(lang2)\n",
        "\n",
        "    return input_lang, output_lang, pairs"
      ],
      "metadata": {
        "id": "vU0jsA1MaRr6"
      },
      "execution_count": 5,
      "outputs": []
    },
    {
      "cell_type": "code",
      "source": [
        "MAX_LENGTH = 10 # Maximum length for scentences\n",
        "\n",
        "# Common English prefixes\n",
        "eng_prefixes = (\n",
        "    \"i am \", \"i m \",\n",
        "    \"he is\", \"he s \",\n",
        "    \"she is\", \"she s \",\n",
        "    \"you are\", \"you re \",\n",
        "    \"we are\", \"we re \",\n",
        "    \"they are\", \"they re \"\n",
        ")\n",
        "\n",
        "# Common French phrases\n",
        "fr_prefixes = (\n",
        "    \"je suis \", \"j'suis \",\n",
        "    \"il est \", \"il'st \",\n",
        "    \"elle est \", \"elle'st \",\n",
        "    \"tu es \", \"t'es \",\n",
        "    \"nous sommes \", \"nous'sommes \",\n",
        "    \"ils sont \", \"ils'sont \"\n",
        ")\n",
        "\n",
        "# Filter pair based on length and prefixes, with autoencoder option\n",
        "def filterPair(p, autoencoder=False):\n",
        "    prefixes = eng_prefixes if autoencoder else fr_prefixes\n",
        "    return len(p[0].split(' ')) < MAX_LENGTH and \\\n",
        "        len(p[1].split(' ')) < MAX_LENGTH and \\\n",
        "        p[1].startswith(prefixes)\n",
        "\n",
        "# Filter pairs based on specified language type\n",
        "def filterPairs(pairs, autoencoder=False):\n",
        "    return [pair for pair in pairs if filterPair(pair, autoencoder)]"
      ],
      "metadata": {
        "id": "61-PwrPKa0qA"
      },
      "execution_count": 6,
      "outputs": []
    },
    {
      "cell_type": "code",
      "source": [
        "def prepareData(lang1, lang2, reverse=False, autoencoder=False):\n",
        "    # Read language pairs and initialize language vocabularies\n",
        "    input_lang, output_lang, pairs = readLangs(lang1, lang2, reverse, autoencoder)\n",
        "    print(\"Read %s sentence pairs\" % len(pairs))\n",
        "\n",
        "    # Filter pairs based on length and prefixes\n",
        "    pairs = filterPairs(pairs, autoencoder)\n",
        "    print(\"Trimmed to %s sentence pairs\" % len(pairs))\n",
        "\n",
        "    # Count words in vocabularies\n",
        "    print(\"Counting words...\")\n",
        "    for pair in pairs:\n",
        "        input_lang.addSentence(pair[0])\n",
        "        output_lang.addSentence(pair[1])\n",
        "\n",
        "    # Display vocabulary sizes\n",
        "    print(\"Counted words:\")\n",
        "    print(input_lang.name, input_lang.n_words)\n",
        "    print(output_lang.name, output_lang.n_words)\n",
        "    return input_lang, output_lang, pairs\n",
        "\n",
        "# Prepare data for English to French translation\n",
        "input_lang, output_lang, pairs = prepareData('eng', 'fra')\n",
        "print(random.choice(pairs))"
      ],
      "metadata": {
        "colab": {
          "base_uri": "https://localhost:8080/"
        },
        "id": "rvZNWQfKbGFV",
        "outputId": "ad0f0260-533b-46c1-c238-c12959ef3e3c"
      },
      "execution_count": 7,
      "outputs": [
        {
          "output_type": "stream",
          "name": "stdout",
          "text": [
            "Reading lines...\n",
            "Read 135842 sentence pairs\n",
            "Trimmed to 6391 sentence pairs\n",
            "Counting words...\n",
            "Counted words:\n",
            "eng 2405\n",
            "fra 3150\n",
            "['i m here to save you', 'je suis la pour vous sauver']\n"
          ]
        }
      ]
    },
    {
      "cell_type": "code",
      "source": [
        "class EncoderRNN(nn.Module):\n",
        "    def __init__(self, input_size, hidden_size, dropout_p=0.1):\n",
        "        super(EncoderRNN, self).__init__()\n",
        "        self.hidden_size = hidden_size\n",
        "\n",
        "        self.embedding = nn.Embedding(input_size, hidden_size)\n",
        "        self.gru = nn.GRU(hidden_size, hidden_size, batch_first=True) # Define Gated Recurrent Unit (GRU) layer\n",
        "        self.dropout = nn.Dropout(dropout_p) # Apply dropout to input during training for regularization\n",
        "\n",
        "    def forward(self, input):\n",
        "        embedded = self.dropout(self.embedding(input)) # Apply dropout to embedded input\n",
        "        output, hidden = self.gru(embedded) # Pass embedded input through GRU layer\n",
        "        return output, hidden"
      ],
      "metadata": {
        "id": "Aa7lKXtKb0VG"
      },
      "execution_count": 8,
      "outputs": []
    },
    {
      "cell_type": "code",
      "source": [
        "class DecoderRNN(nn.Module):\n",
        "    def __init__(self, hidden_size, output_size):\n",
        "        super(DecoderRNN, self).__init__()\n",
        "        self.embedding = nn.Embedding(output_size, hidden_size)\n",
        "        self.gru = nn.GRU(hidden_size, hidden_size, batch_first=True) # Define Gated Recurrent Unit (GRU) layer\n",
        "        self.out = nn.Linear(hidden_size, output_size) # Define linear layer\n",
        "\n",
        "    def forward(self, encoder_outputs, encoder_hidden, target_tensor=None):\n",
        "        batch_size = encoder_outputs.size(0)\n",
        "        decoder_input = torch.empty(batch_size, 1, dtype=torch.long, device=device).fill_(SOS_token)\n",
        "        decoder_hidden = encoder_hidden\n",
        "        decoder_outputs = []\n",
        "\n",
        "        # Loop over maximum sequence length\n",
        "        for i in range(MAX_LENGTH):\n",
        "            decoder_output, decoder_hidden  = self.forward_step(decoder_input, decoder_hidden)\n",
        "            decoder_outputs.append(decoder_output)\n",
        "\n",
        "            # Determine next decoder input\n",
        "            if target_tensor is not None:\n",
        "                decoder_input = target_tensor[:, i].unsqueeze(1)\n",
        "            else:\n",
        "                _, topi = decoder_output.topk(1)\n",
        "                decoder_input = topi.squeeze(-1).detach()\n",
        "\n",
        "        # Concatenate decoder outputs and apply log-softmax\n",
        "        decoder_outputs = torch.cat(decoder_outputs, dim=1)\n",
        "        decoder_outputs = F.log_softmax(decoder_outputs, dim=-1)\n",
        "        return decoder_outputs, decoder_hidden, None\n",
        "\n",
        "    def forward_step(self, input, hidden):\n",
        "        output = self.embedding(input) # Apply embedding layer to input\n",
        "        output = F.relu(output) # Apply ReLU activation\n",
        "        output, hidden = self.gru(output, hidden) # Pass through GRU layer\n",
        "        output = self.out(output) # Use linear layer for output\n",
        "        return output, hidden"
      ],
      "metadata": {
        "id": "umvUMVVEb3B-"
      },
      "execution_count": 9,
      "outputs": []
    },
    {
      "cell_type": "code",
      "source": [
        "# Convert sentence to list of word indices\n",
        "def indexesFromSentence(lang, sentence):\n",
        "    return [lang.word2index[word] for word in sentence.split(' ')]\n",
        "\n",
        "# Convert sentence to tensor with End of Sequence (EOS) token\n",
        "def tensorFromSentence(lang, sentence):\n",
        "    indexes = indexesFromSentence(lang, sentence)\n",
        "    indexes.append(EOS_token)\n",
        "    return torch.tensor(indexes, dtype=torch.long, device=device).view(1, -1)\n",
        "\n",
        "# Create input and target tensors from language pair\n",
        "def tensorsFromPair(pair):\n",
        "    input_tensor = tensorFromSentence(input_lang, pair[0])\n",
        "    target_tensor = tensorFromSentence(output_lang, pair[1])\n",
        "    return (input_tensor, target_tensor)\n",
        "\n",
        "# Prepare dataloader for training\n",
        "def get_dataloader(batch_size, autoencoder=False):\n",
        "    input_lang, output_lang, pairs = prepareData('eng', 'fra', autoencoder=autoencoder)\n",
        "\n",
        "    n = len(pairs)\n",
        "    input_ids = np.zeros((n, MAX_LENGTH), dtype=np.int32)\n",
        "    target_ids = np.zeros((n, MAX_LENGTH), dtype=np.int32)\n",
        "\n",
        "    # Convert language pairs to numerical tensors\n",
        "    for idx, (inp, tgt) in enumerate(pairs):\n",
        "        inp_ids = indexesFromSentence(input_lang, inp)\n",
        "        tgt_ids = indexesFromSentence(output_lang, tgt)\n",
        "        inp_ids.append(EOS_token)\n",
        "        tgt_ids.append(EOS_token)\n",
        "        input_ids[idx, :len(inp_ids)] = inp_ids\n",
        "        target_ids[idx, :len(tgt_ids)] = tgt_ids\n",
        "\n",
        "    # Create DataLoader for prepared data\n",
        "    train_data = TensorDataset(torch.LongTensor(input_ids).to(device),\n",
        "                               torch.LongTensor(target_ids).to(device))\n",
        "    train_sampler = RandomSampler(train_data)\n",
        "    train_dataloader = DataLoader(train_data, sampler=train_sampler, batch_size=batch_size)\n",
        "    return input_lang, output_lang, train_dataloader"
      ],
      "metadata": {
        "id": "y01FNlbUcXXd"
      },
      "execution_count": 10,
      "outputs": []
    },
    {
      "cell_type": "code",
      "source": [
        "def train_epoch(dataloader, encoder, decoder, encoder_optimizer, decoder_optimizer, criterion):\n",
        "    total_loss = 0\n",
        "    for data in dataloader:\n",
        "        input_tensor, target_tensor = data\n",
        "\n",
        "        # Initialize gradients for encoder and decoder\n",
        "        encoder_optimizer.zero_grad()\n",
        "        decoder_optimizer.zero_grad()\n",
        "\n",
        "        # Pass input through encoder then decode\n",
        "        encoder_outputs, encoder_hidden = encoder(input_tensor)\n",
        "        decoder_outputs, _, _ = decoder(encoder_outputs, encoder_hidden, target_tensor)\n",
        "\n",
        "        # Calculate loss between decoder outputs and target\n",
        "        loss = criterion(\n",
        "            decoder_outputs.view(-1, decoder_outputs.size(-1)),\n",
        "            target_tensor.view(-1)\n",
        "        )\n",
        "\n",
        "        # Backpropagate and optimize encoder and decoder\n",
        "        loss.backward()\n",
        "        encoder_optimizer.step()\n",
        "        decoder_optimizer.step()\n",
        "        total_loss += loss.item() # Accumulate loss for epoch\n",
        "\n",
        "    return total_loss / len(dataloader)"
      ],
      "metadata": {
        "id": "d1nE2JzTeGUv"
      },
      "execution_count": 11,
      "outputs": []
    },
    {
      "cell_type": "code",
      "source": [
        "# Convert seconds to human-readable time format\n",
        "def asMinutes(s):\n",
        "    m = np.floor(s / 60)\n",
        "    s -= m * 60\n",
        "    return '%dm %ds' % (m, s)\n",
        "\n",
        "# Calculate and format remaining time during training\n",
        "def timeSince(since, percent):\n",
        "    now = time.time()\n",
        "    s = now - since\n",
        "    es = s / (percent)\n",
        "    rs = es - s\n",
        "    return '%s (- %s)' % (asMinutes(s), asMinutes(rs))"
      ],
      "metadata": {
        "id": "piVR40C3eVC4"
      },
      "execution_count": 12,
      "outputs": []
    },
    {
      "cell_type": "code",
      "source": [
        "def train(train_dataloader, encoder, decoder, n_epochs, learning_rate=0.001, print_every=100):\n",
        "    start = time.time()\n",
        "    plot_losses = [] # Initialize list to track losses\n",
        "    print_loss_total = 0 # Initialize variable to accumulate loss\n",
        "\n",
        "    # Define optimizers for encoder and decoder and loss criterion\n",
        "    encoder_optimizer = optim.Adam(encoder.parameters(), lr=learning_rate)\n",
        "    decoder_optimizer = optim.Adam(decoder.parameters(), lr=learning_rate)\n",
        "    criterion = nn.NLLLoss()\n",
        "\n",
        "    # Loop over specified number of epochs\n",
        "    for epoch in range(1, n_epochs + 1):\n",
        "        # Perform training epoch and compute loss\n",
        "        loss = train_epoch(train_dataloader, encoder, decoder, encoder_optimizer, decoder_optimizer, criterion)\n",
        "        print_loss_total += loss\n",
        "\n",
        "        # Print and record average loss at specified intervals\n",
        "        if epoch % print_every == 0:\n",
        "            print_loss_avg = print_loss_total / print_every\n",
        "            print_loss_total = 0\n",
        "            print('%s (%d %d%%) %.4f' % (timeSince(start, epoch / n_epochs), epoch, epoch / n_epochs * 100, print_loss_avg))"
      ],
      "metadata": {
        "id": "hdOCMh1nedgb"
      },
      "execution_count": 13,
      "outputs": []
    },
    {
      "cell_type": "code",
      "source": [
        "def evaluate(encoder, decoder, sentence, input_lang, output_lang):\n",
        "    with torch.no_grad():\n",
        "        input_tensor = tensorFromSentence(input_lang, sentence)\n",
        "\n",
        "        # Pass input through encoder then decode\n",
        "        encoder_outputs, encoder_hidden = encoder(input_tensor)\n",
        "        decoder_outputs, decoder_hidden, decoder_attn = decoder(encoder_outputs, encoder_hidden)\n",
        "\n",
        "        _, topi = decoder_outputs.topk(1) # Get top predicted indices\n",
        "        decoded_ids = topi.squeeze() # Squeeze output tensor\n",
        "\n",
        "        decoded_words = []\n",
        "        for idx in decoded_ids:\n",
        "            if idx.item() == EOS_token:\n",
        "                decoded_words.append('<EOS>') # Append EOS if end token encountered\n",
        "                break\n",
        "            decoded_words.append(output_lang.index2word[idx.item()]) # Append corresponding word\n",
        "    return decoded_words, decoder_attn"
      ],
      "metadata": {
        "id": "MVD4_wHGeyER"
      },
      "execution_count": 14,
      "outputs": []
    },
    {
      "cell_type": "code",
      "source": [
        "# Set hidden state and batch size\n",
        "hidden_size = 128\n",
        "batch_size = 32\n",
        "\n",
        "# Create dataloader for training\n",
        "input_lang, output_lang, train_dataloader = get_dataloader(batch_size)\n",
        "\n",
        "# Initialize encoder and decoder models\n",
        "encoder = EncoderRNN(input_lang.n_words, hidden_size).to(device)\n",
        "decoder = DecoderRNN(hidden_size, output_lang.n_words).to(device)\n",
        "\n",
        "# Train models for 80 epochs, printing loss every 5 epochs\n",
        "train(train_dataloader, encoder, decoder, 80, print_every=5)"
      ],
      "metadata": {
        "id": "hSxQ2EJdez5Z",
        "colab": {
          "base_uri": "https://localhost:8080/"
        },
        "outputId": "eb1436f3-75a2-4d11-dbfb-34675e06410a"
      },
      "execution_count": 15,
      "outputs": [
        {
          "output_type": "stream",
          "name": "stdout",
          "text": [
            "Reading lines...\n",
            "Read 135842 sentence pairs\n",
            "Trimmed to 6391 sentence pairs\n",
            "Counting words...\n",
            "Counted words:\n",
            "eng 2405\n",
            "fra 3150\n",
            "0m 11s (- 2m 59s) (5 6%) 2.1795\n",
            "0m 23s (- 2m 43s) (10 12%) 1.2595\n",
            "0m 34s (- 2m 30s) (15 18%) 0.8512\n",
            "0m 46s (- 2m 18s) (20 25%) 0.6030\n",
            "0m 57s (- 2m 6s) (25 31%) 0.4414\n",
            "1m 8s (- 1m 53s) (30 37%) 0.3331\n",
            "1m 19s (- 1m 41s) (35 43%) 0.2588\n",
            "1m 30s (- 1m 30s) (40 50%) 0.2081\n",
            "1m 41s (- 1m 19s) (45 56%) 0.1723\n",
            "1m 53s (- 1m 7s) (50 62%) 0.1481\n",
            "2m 4s (- 0m 56s) (55 68%) 0.1296\n",
            "2m 15s (- 0m 45s) (60 75%) 0.1181\n",
            "2m 27s (- 0m 33s) (65 81%) 0.1101\n",
            "2m 38s (- 0m 22s) (70 87%) 0.1016\n",
            "2m 53s (- 0m 11s) (75 93%) 0.0981\n",
            "3m 7s (- 0m 0s) (80 100%) 0.0939\n"
          ]
        }
      ]
    },
    {
      "cell_type": "code",
      "source": [
        "# Set hidden state and batch size\n",
        "hidden_size = 128\n",
        "batch_size = 32\n",
        "\n",
        "# Create dataloader for training autoencoder\n",
        "input_lang, output_lang, train_dataloader = get_dataloader(batch_size, True)\n",
        "\n",
        "# Initialize encoder and decoder models\n",
        "encoder = EncoderRNN(input_lang.n_words, hidden_size).to(device)\n",
        "decoder = DecoderRNN(hidden_size, output_lang.n_words).to(device)\n",
        "\n",
        "# Train models for 80 epochs, printing loss every 5 epochs\n",
        "train(train_dataloader, encoder, decoder, 80, print_every=5)"
      ],
      "metadata": {
        "colab": {
          "base_uri": "https://localhost:8080/"
        },
        "id": "w430liCKnHOM",
        "outputId": "3db214cd-cc8e-4624-d738-458e72efe6de"
      },
      "execution_count": 16,
      "outputs": [
        {
          "output_type": "stream",
          "name": "stdout",
          "text": [
            "Reading lines...\n",
            "Read 135842 sentence pairs\n",
            "Trimmed to 12109 sentence pairs\n",
            "Counting words...\n",
            "Counted words:\n",
            "eng 3131\n",
            "fra 3131\n",
            "0m 21s (- 5m 21s) (5 6%) 1.6012\n",
            "0m 42s (- 4m 55s) (10 12%) 0.6923\n",
            "1m 3s (- 4m 36s) (15 18%) 0.3481\n",
            "1m 26s (- 4m 20s) (20 25%) 0.1824\n",
            "1m 48s (- 3m 58s) (25 31%) 0.0980\n",
            "2m 10s (- 3m 37s) (30 37%) 0.0540\n",
            "2m 31s (- 3m 14s) (35 43%) 0.0324\n",
            "2m 56s (- 2m 56s) (40 50%) 0.0213\n",
            "3m 18s (- 2m 34s) (45 56%) 0.0162\n",
            "3m 40s (- 2m 12s) (50 62%) 0.0117\n",
            "4m 1s (- 1m 49s) (55 68%) 0.0085\n",
            "4m 22s (- 1m 27s) (60 75%) 0.0088\n",
            "4m 44s (- 1m 5s) (65 81%) 0.0083\n",
            "5m 7s (- 0m 43s) (70 87%) 0.0044\n",
            "5m 28s (- 0m 21s) (75 93%) 0.0068\n",
            "5m 50s (- 0m 0s) (80 100%) 0.0062\n"
          ]
        }
      ]
    },
    {
      "cell_type": "code",
      "source": [
        "# Save state dictionary of encoder model to file\n",
        "torch.save(encoder.state_dict(), 'autoencoder_encoder.pth')\n",
        "\n",
        "# Create new encoder model and load saved state dictionary\n",
        "loaded_encoder = EncoderRNN(input_lang.n_words, hidden_size).to(device)\n",
        "loaded_encoder.load_state_dict(torch.load('autoencoder_encoder.pth'))\n",
        "\n",
        "# Freeze parameters of loaded encoder\n",
        "for param in loaded_encoder.parameters():\n",
        "    param.requires_grad = False"
      ],
      "metadata": {
        "id": "aCTdyc4QvdiE"
      },
      "execution_count": 17,
      "outputs": []
    },
    {
      "cell_type": "code",
      "source": [
        "# Set hidden state and batch size\n",
        "hidden_size = 128\n",
        "batch_size = 32\n",
        "\n",
        "# Create dataloader for training\n",
        "input_lang, output_lang, train_dataloader = get_dataloader(batch_size)\n",
        "\n",
        "# Initialize new decoder model\n",
        "decoder = DecoderRNN(hidden_size, output_lang.n_words).to(device)\n",
        "\n",
        "# Train frozen encoder and new decoder for 80 epochs, printing loss every 5 epochs\n",
        "train(train_dataloader, loaded_encoder, decoder, 80, print_every=5)"
      ],
      "metadata": {
        "colab": {
          "base_uri": "https://localhost:8080/"
        },
        "id": "BggEX8byvq7s",
        "outputId": "7888e8c0-93bb-4728-a809-8e55f04e7f30"
      },
      "execution_count": 18,
      "outputs": [
        {
          "output_type": "stream",
          "name": "stdout",
          "text": [
            "Reading lines...\n",
            "Read 135842 sentence pairs\n",
            "Trimmed to 6391 sentence pairs\n",
            "Counting words...\n",
            "Counted words:\n",
            "eng 2405\n",
            "fra 3150\n",
            "0m 10s (- 2m 40s) (5 6%) 2.2230\n",
            "0m 21s (- 2m 32s) (10 12%) 1.3586\n",
            "0m 35s (- 2m 32s) (15 18%) 1.0289\n",
            "0m 45s (- 2m 17s) (20 25%) 0.8307\n",
            "0m 56s (- 2m 4s) (25 31%) 0.7004\n",
            "1m 6s (- 1m 51s) (30 37%) 0.6083\n",
            "1m 17s (- 1m 39s) (35 43%) 0.5412\n",
            "1m 28s (- 1m 28s) (40 50%) 0.4896\n",
            "1m 38s (- 1m 16s) (45 56%) 0.4484\n",
            "1m 49s (- 1m 5s) (50 62%) 0.4166\n",
            "1m 59s (- 0m 54s) (55 68%) 0.3874\n",
            "2m 10s (- 0m 43s) (60 75%) 0.3643\n",
            "2m 20s (- 0m 32s) (65 81%) 0.3444\n",
            "2m 31s (- 0m 21s) (70 87%) 0.3279\n",
            "2m 42s (- 0m 10s) (75 93%) 0.3129\n",
            "2m 52s (- 0m 0s) (80 100%) 0.2998\n"
          ]
        }
      ]
    }
  ]
}